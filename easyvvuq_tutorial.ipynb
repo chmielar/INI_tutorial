{
 "cells": [
  {
   "cell_type": "markdown",
   "id": "f32c316e",
   "metadata": {},
   "source": [
    "# Tutorial 1: EasyVVUQ\n",
    "\n",
    "The Role of Uncertainty in Mathematical Modelling of Pandemics - Session 2: Wider Applications of VVUQ Methods - 9th February 2022\n",
    "\n",
    "\n",
    "* Forward uncertainty propagation: computing the output distribution of a computational model, given *assumed* probability density functions for the input parameters of the model (see image below). \n",
    "\n",
    "* [EasyVVUQ](https://github.com/UCL-CCS/EasyVVUQ) is VECMA's forward uncertainty propagation toolkit.\n",
    "\n",
    "![](images/forward.png)\n",
    "\n",
    "Author: Wouter Edeling, CWI Scientific Computing Group (Wouter.Edeling@CWI.nl)\n",
    "\n",
    "## Installation\n",
    "\n",
    "* EasyVVUQ: via git clone or by eceuting the command below\n",
    "\n",
    "You will also need seaborn installed for some of the plots. Uncomment the install line below if need be."
   ]
  },
  {
   "cell_type": "code",
   "execution_count": 1,
   "id": "4e0169e2",
   "metadata": {},
   "outputs": [
    {
     "name": "stdout",
     "output_type": "stream",
     "text": [
      "Defaulting to user installation because normal site-packages is not writeable\n",
      "Requirement already satisfied: easyvvuq in /home/wouter/.local/lib/python3.8/site-packages/easyvvuq-0.7.3.1+75.g8a46b49.dirty-py3.8.egg (0.7.3.1+75.g8a46b49.dirty)\n",
      "Requirement already satisfied: numpy in /home/wouter/.local/lib/python3.8/site-packages (from easyvvuq) (1.19.0)\n",
      "Requirement already satisfied: pandas in /home/wouter/.local/lib/python3.8/site-packages (from easyvvuq) (1.2.1)\n",
      "Requirement already satisfied: scipy in /home/wouter/.local/lib/python3.8/site-packages (from easyvvuq) (1.5.0)\n",
      "Requirement already satisfied: wheel in /home/wouter/.local/lib/python3.8/site-packages (from easyvvuq) (0.35.1)\n",
      "Requirement already satisfied: chaospy==3.3.6 in /home/wouter/.local/lib/python3.8/site-packages (from easyvvuq) (3.3.6)\n",
      "Requirement already satisfied: SALib in /home/wouter/.local/lib/python3.8/site-packages (from easyvvuq) (1.3.12)\n",
      "Requirement already satisfied: pytest in /home/wouter/.local/lib/python3.8/site-packages (from easyvvuq) (6.2.2)\n",
      "Requirement already satisfied: pytest-pep8 in /usr/local/lib/python3.8/dist-packages/pytest_pep8-1.0.6-py3.8.egg (from easyvvuq) (1.0.6)\n",
      "Requirement already satisfied: SQLAlchemy in /usr/lib/python3/dist-packages (from easyvvuq) (1.3.12)\n",
      "Requirement already satisfied: jsonpickle in /home/wouter/.local/lib/python3.8/site-packages (from easyvvuq) (1.5.1)\n",
      "Requirement already satisfied: cerberus in /home/wouter/.local/lib/python3.8/site-packages (from easyvvuq) (1.3.2)\n",
      "Requirement already satisfied: dask[complete] in /home/wouter/.local/lib/python3.8/site-packages (from easyvvuq) (2021.1.1)\n",
      "Requirement already satisfied: dask_jobqueue in /usr/local/lib/python3.8/dist-packages/dask_jobqueue-0.7.2-py3.8.egg (from easyvvuq) (0.7.2)\n",
      "Requirement already satisfied: cloudpickle in /home/wouter/.local/lib/python3.8/site-packages/cloudpickle-1.6.0-py3.8.egg (from easyvvuq) (1.6.0)\n",
      "Requirement already satisfied: scikit-learn in /usr/local/lib/python3.8/dist-packages/scikit_learn-0.23.2-py3.8-linux-x86_64.egg (from easyvvuq) (0.23.2)\n",
      "Requirement already satisfied: jinja2 in /usr/local/lib/python3.8/dist-packages/Jinja2-3.0.0a1-py3.8.egg (from easyvvuq) (3.0.0a1)\n",
      "Requirement already satisfied: kubernetes in /usr/local/lib/python3.8/dist-packages/kubernetes-17.14.0a1-py3.8.egg (from easyvvuq) (17.14.0a1)\n",
      "Requirement already satisfied: autopep8 in /home/wouter/.local/lib/python3.8/site-packages (from easyvvuq) (1.5.4)\n",
      "Requirement already satisfied: numpoly==1.0.5 in /home/wouter/.local/lib/python3.8/site-packages (from chaospy==3.3.6->easyvvuq) (1.0.5)\n",
      "Requirement already satisfied: six in /usr/lib/python3/dist-packages (from numpoly==1.0.5->chaospy==3.3.6->easyvvuq) (1.14.0)\n",
      "Requirement already satisfied: pycodestyle>=2.6.0 in /home/wouter/.local/lib/python3.8/site-packages (from autopep8->easyvvuq) (2.6.0)\n",
      "Requirement already satisfied: toml in /home/wouter/.local/lib/python3.8/site-packages (from autopep8->easyvvuq) (0.10.1)\n",
      "Requirement already satisfied: setuptools in /home/wouter/.local/lib/python3.8/site-packages (from cerberus->easyvvuq) (50.3.0)\n",
      "Requirement already satisfied: distributed>=2.19 in /home/wouter/.local/lib/python3.8/site-packages/distributed-2021.1.1-py3.8.egg (from dask_jobqueue->easyvvuq) (2021.1.1)\n",
      "Requirement already satisfied: pyyaml in /usr/lib/python3/dist-packages (from dask[complete]->easyvvuq) (5.3.1)\n",
      "Requirement already satisfied: click>=6.6 in /usr/lib/python3/dist-packages (from distributed>=2.19->dask_jobqueue->easyvvuq) (7.0)\n",
      "Requirement already satisfied: msgpack>=0.6.0 in /home/wouter/.local/lib/python3.8/site-packages (from distributed>=2.19->dask_jobqueue->easyvvuq) (1.0.0)\n",
      "Requirement already satisfied: psutil>=5.0 in /home/wouter/.local/lib/python3.8/site-packages/psutil-5.8.0-py3.8-linux-x86_64.egg (from distributed>=2.19->dask_jobqueue->easyvvuq) (5.8.0)\n",
      "Requirement already satisfied: sortedcontainers!=2.0.0,!=2.0.1 in /home/wouter/.local/lib/python3.8/site-packages/sortedcontainers-2.3.0-py3.8.egg (from distributed>=2.19->dask_jobqueue->easyvvuq) (2.3.0)\n",
      "Requirement already satisfied: tblib>=1.6.0 in /home/wouter/.local/lib/python3.8/site-packages/tblib-1.7.0-py3.8.egg (from distributed>=2.19->dask_jobqueue->easyvvuq) (1.7.0)\n",
      "Requirement already satisfied: toolz>=0.8.2 in /home/wouter/.local/lib/python3.8/site-packages/toolz-0.11.1-py3.8.egg (from distributed>=2.19->dask_jobqueue->easyvvuq) (0.11.1)\n",
      "Requirement already satisfied: tornado>=6.0.3 in /home/wouter/.local/lib/python3.8/site-packages/tornado-6.1-py3.8-linux-x86_64.egg (from distributed>=2.19->dask_jobqueue->easyvvuq) (6.1)\n",
      "Requirement already satisfied: zict>=0.1.3 in /home/wouter/.local/lib/python3.8/site-packages/zict-2.0.0-py3.8.egg (from distributed>=2.19->dask_jobqueue->easyvvuq) (2.0.0)\n",
      "Requirement already satisfied: heapdict in /home/wouter/.local/lib/python3.8/site-packages/HeapDict-1.0.1-py3.8.egg (from zict>=0.1.3->distributed>=2.19->dask_jobqueue->easyvvuq) (1.0.1)\n",
      "Requirement already satisfied: partd>=0.3.10 in /home/wouter/.local/lib/python3.8/site-packages/partd-1.1.0-py3.8.egg (from dask[complete]->easyvvuq) (1.1.0)\n",
      "Requirement already satisfied: fsspec>=0.6.0 in /home/wouter/.local/lib/python3.8/site-packages/fsspec-0.8.5-py3.8.egg (from dask[complete]->easyvvuq) (0.8.5)\n",
      "Requirement already satisfied: bokeh!=2.0.0,>=1.0.0 in /home/wouter/.local/lib/python3.8/site-packages/bokeh-2.3.0.dev12-py3.8.egg (from dask[complete]->easyvvuq) (2.3.0.dev12)\n",
      "Requirement already satisfied: python-dateutil>=2.1 in /usr/lib/python3/dist-packages (from bokeh!=2.0.0,>=1.0.0->dask[complete]->easyvvuq) (2.7.3)\n",
      "Requirement already satisfied: pillow>=7.1.0 in /home/wouter/.local/lib/python3.8/site-packages/Pillow-8.1.0-py3.8-linux-x86_64.egg (from bokeh!=2.0.0,>=1.0.0->dask[complete]->easyvvuq) (8.1.0)\n",
      "Requirement already satisfied: packaging>=16.8 in /home/wouter/.local/lib/python3.8/site-packages (from bokeh!=2.0.0,>=1.0.0->dask[complete]->easyvvuq) (20.9)\n",
      "Requirement already satisfied: typing_extensions>=3.7.4 in /home/wouter/.local/lib/python3.8/site-packages (from bokeh!=2.0.0,>=1.0.0->dask[complete]->easyvvuq) (3.7.4.3)\n",
      "Requirement already satisfied: MarkupSafe>=1.1 in /usr/lib/python3/dist-packages (from jinja2->easyvvuq) (1.1.0)\n",
      "Requirement already satisfied: pyparsing>=2.0.2 in /home/wouter/.local/lib/python3.8/site-packages (from packaging>=16.8->bokeh!=2.0.0,>=1.0.0->dask[complete]->easyvvuq) (2.4.7)\n",
      "Requirement already satisfied: pytz>=2017.3 in /usr/lib/python3/dist-packages (from pandas->easyvvuq) (2019.3)\n",
      "Requirement already satisfied: locket in /home/wouter/.local/lib/python3.8/site-packages/locket-0.2.1-py3.8.egg (from partd>=0.3.10->dask[complete]->easyvvuq) (0.2.1)\n",
      "Requirement already satisfied: certifi>=14.05.14 in /home/wouter/.local/lib/python3.8/site-packages (from kubernetes->easyvvuq) (2020.6.20)\n",
      "Requirement already satisfied: google-auth>=1.0.1 in /usr/lib/python3/dist-packages (from kubernetes->easyvvuq) (1.5.1)\n",
      "Requirement already satisfied: requests in /usr/lib/python3/dist-packages (from kubernetes->easyvvuq) (2.22.0)\n",
      "Requirement already satisfied: requests-oauthlib in /home/wouter/.local/lib/python3.8/site-packages/requests_oauthlib-1.3.0-py3.8.egg (from kubernetes->easyvvuq) (1.3.0)\n",
      "Requirement already satisfied: urllib3>=1.24.2 in /usr/lib/python3/dist-packages (from kubernetes->easyvvuq) (1.25.8)\n",
      "Requirement already satisfied: websocket-client!=0.40.0,!=0.41.*,!=0.42.*,>=0.32.0 in /home/wouter/.local/lib/python3.8/site-packages/websocket_client-0.57.0-py3.8.egg (from kubernetes->easyvvuq) (0.57.0)\n",
      "Requirement already satisfied: attrs>=19.2.0 in /home/wouter/.local/lib/python3.8/site-packages (from pytest->easyvvuq) (20.3.0)\n",
      "Requirement already satisfied: pluggy<1.0.0a1,>=0.12 in /home/wouter/.local/lib/python3.8/site-packages (from pytest->easyvvuq) (0.13.1)\n",
      "Requirement already satisfied: iniconfig in /home/wouter/.local/lib/python3.8/site-packages (from pytest->easyvvuq) (1.1.1)\n",
      "Requirement already satisfied: py>=1.8.2 in /home/wouter/.local/lib/python3.8/site-packages (from pytest->easyvvuq) (1.10.0)\n",
      "Requirement already satisfied: pep8>=1.3 in /home/wouter/.local/lib/python3.8/site-packages/pep8-1.7.1-py3.8.egg (from pytest-pep8->easyvvuq) (1.7.1)\n",
      "Requirement already satisfied: pytest-cache in /home/wouter/.local/lib/python3.8/site-packages/pytest_cache-1.0-py3.8.egg (from pytest-pep8->easyvvuq) (1.0)\n"
     ]
    },
    {
     "name": "stdout",
     "output_type": "stream",
     "text": [
      "Requirement already satisfied: execnet>=1.1.dev1 in /home/wouter/.local/lib/python3.8/site-packages/execnet-1.8.0-py3.8.egg (from pytest-cache->pytest-pep8->easyvvuq) (1.8.0)\n",
      "Requirement already satisfied: apipkg>=1.4 in /home/wouter/.local/lib/python3.8/site-packages/apipkg-1.5-py3.8.egg (from execnet>=1.1.dev1->pytest-cache->pytest-pep8->easyvvuq) (1.5)\n",
      "Requirement already satisfied: oauthlib>=3.0.0 in /usr/lib/python3/dist-packages (from requests-oauthlib->kubernetes->easyvvuq) (3.1.0)\n",
      "Requirement already satisfied: matplotlib in /home/wouter/.local/lib/python3.8/site-packages (from SALib->easyvvuq) (3.3.2)\n",
      "Requirement already satisfied: cycler>=0.10 in /home/wouter/.local/lib/python3.8/site-packages (from matplotlib->SALib->easyvvuq) (0.10.0)\n",
      "Requirement already satisfied: kiwisolver>=1.0.1 in /home/wouter/.local/lib/python3.8/site-packages (from matplotlib->SALib->easyvvuq) (1.2.0)\n",
      "Requirement already satisfied: joblib>=0.11 in /usr/local/lib/python3.8/dist-packages/joblib-0.16.0-py3.8.egg (from scikit-learn->easyvvuq) (0.16.0)\n",
      "Requirement already satisfied: threadpoolctl>=2.0.0 in /usr/local/lib/python3.8/dist-packages/threadpoolctl-2.1.0-py3.8.egg (from scikit-learn->easyvvuq) (2.1.0)\n",
      "\u001b[33mWARNING: You are using pip version 21.0.1; however, version 22.0.2 is available.\n",
      "You should consider upgrading via the '/usr/bin/python3 -m pip install --upgrade pip' command.\u001b[0m\n"
     ]
    }
   ],
   "source": [
    "!pip install easyvvuq\n",
    "#!pip install seaborn"
   ]
  },
  {
   "cell_type": "markdown",
   "id": "f8018620",
   "metadata": {},
   "source": [
    "## Sparse-grid forward UQ in theory\n",
    "\n",
    "### Making a interpolation-based surrogate with 1 uncertain input parameter"
   ]
  },
  {
   "cell_type": "markdown",
   "id": "f32aa575",
   "metadata": {},
   "source": [
    "\n",
    "Let $f^{(1)}(x)$ be a one-dimensional function. We aim to create an interpolation of $f^{(1)}$, denoted by\n",
    "\n",
    "\\begin{align}\n",
    " I^{(l)}f^{(1)}(x) = \\sum_{i=1}^{m_l} f(x_{i}^{(l)})a^{(l)}_i(x).\n",
    " \\label{eq:sc1d}\n",
    "\\end{align}\n",
    "\n",
    "Here, $l$ is the so-called *level* of the interpolant. It is an index which links to a **one-dimensional** set of collocation points $\\{x^{l}_i\\}$, for $i=1,\\cdots, m_l$. We can select these points from different families, typically they'll be the abscissas of some quadrature rule. For instance, a Clenshaw-Curtis (CC) rule can generate different collocation points in $[0,1]$ such that\n",
    "\n",
    "* Level 1: $x^{(1)}_i \\in \\{0.5\\}$,\n",
    "* Level 2: $x^{(2)}_i \\in \\{0.0, 0.5, 1.0\\}$,\n",
    "* Level 3: $x^{(3)}_i \\in \\{0.0, 0.146, 0.5, 0.854, 1.0\\}$.\n",
    "\n",
    "Note that here, the higher level collocation point sets include all points from previous levels. When this is the case, we say that the quadrature rule is **nested**. This leads to efficient sampling plans in higher dimensions, but nestedness is not a strict requirement for sparse grid interpolation or integration. This does (often) lead to 1D quadrature rules which increase exponentially, such that the number of points is given by\n",
    "\n",
    "\\begin{align}\n",
    " m_l = \n",
    " \\begin{cases}\n",
    "  2^{l-1} + 1 & l > 1 \\\\\n",
    "  1 & l = 1\n",
    " \\end{cases}  \n",
    "\\end{align}\n",
    "\n",
    "Finally, the $a^{(l)}_i(x)$ are the basis functions used for interpolation. In the case of the **Stochastic Collocation** (SC) method, these are often (although not necessarily) the Lagrange interpolation polynomials, given by\n",
    "\n",
    "\\begin{align}\n",
    "a^{(l)}_i(x) = \\prod_{\\substack{1\\leq j \\leq m_l \\\\ j \\neq i}} \\frac{x - x_j}{x_i - x_j}\n",
    "\\end{align}\n",
    "\n",
    "A property of the Lagrange polynomial associated with the i-th collocation point is that $a^{(l)}_i(x_i) = 1$ at this point, and $a^{(l)}_i(x_j) = 0$ at all other collocation points $x_j$. The interpolation $I^{(l)}f^{(1)}$ will therefore exactly reproduce the code outputs $f^{(1)}(x_i)$ at the collocation points $x_i$.\n",
    "\n",
    "### Refinement\n",
    "\n",
    "Let us define the following difference formulas for interpolation in 1D:\n",
    "\n",
    "\\begin{align}\n",
    " \\Delta^{(l)} f^{(1)} := I^{(l)}f^{(1)} - I^{(l-1)}f^{(1)}\\quad\\mathrm{where}\\quad\n",
    " I^{(0)}f^{(1)}:=0.\n",
    " \\label{eq:Delta1d}\n",
    "\\end{align}\n",
    "\n",
    "That is, $ \\Delta^{(l)} f^{(1)}$ is just the difference between the interpolations at successive levels. These difference formulas are often used in both sparse-grid interpolation (and quadrature), see the figure below.\n",
    "\n",
    "![](images/fig1.png)\n",
    "\n",
    "\n",
    "When interpolating a level $l-1$ interpolant using a level $l$ interpolating we retrieve the former, i.e.\n",
    "\n",
    "\\begin{align}\n",
    " I^{(l)}\\left(I^{(l-1)}f^{(l)}\\right) = I^{(l-1)}f^{(l)}.\n",
    "\\end{align}\n",
    "\n",
    "\n",
    "Thus, a lower level interpolant can be exactly interpolated by a higher level interpolant (which is true for both nested and non-nested collocation points), see Figure below:\n",
    "\n",
    "![](images/fig2.png)\n",
    "*The blue solid line is the exact 1D function $f^{(1)}$. The red striped line is a (non-nested) level $l$ interpolant. The green striped line is a lower-level $l-1$ counterpart, constructed from function evaluations at  the green star symbols.. If we evaluate the level $l-1$ interpolant at the level $l$ collocation, we obtain the blue squares. Clearly, if these function values are used to construct a level $l$ interpolant of $I^{(l-1)}f^{(1)}$, which would be $I^{(l)}\\left(I^{(l-1)}f^{(1)}\\right)$, we just retrieve $I^{(l-1)}f^{(1)}$.*\n",
    "\n",
    "We can therefore write the difference formula as\n",
    "\n",
    "\\begin{align}\n",
    " \\Delta^{(l)}f^{(1)} = I^{(l)}f^{(1)} - I^{(l-1)}f^{(1)} =  I^{(l)}f^{(1)} - I^{(l)}\\left(I^{(l-1)}f^{(1)}\\right) = \\sum_{i = 1}^{m_l}f(x^{(l)}_i)a^{(l)}_i - \\sum_{i=1}^{m_l}I^{(l-1)}f^{(1)}(x^{(l)}_i)a^{(l)}_i = \\nonumber\\\\\n",
    " \\sum_{i=1}^{m_l}\\left[f(x^{(l)}_i) - I^{(l-1)}f^{(1)}(x^{(l)}_i)\\right]a^{(l)}_i = \\sum_{i=1}^{m_l}w^{(l)}_ia^{(l)}_i.\n",
    " \\label{eq:diff0}\n",
    "\\end{align}\n",
    "\n",
    "Here, $w^{(l)}_i:=f(x^{(l)}_i) - I^{(l-1)}f^{(1)}(x^{(l)}_i)$ is the **hierarchical surplus**, defined as the difference between the code output at a collocation point $x^{(l)}_i$ at level $l$, minus the level $l-1$ polynomial approximation of the code output at the same location. This can be thought of as a local measure of the accuracy of the interpolation. Furthermore, we can also write the interpolation $I^{(l)}f^{(1)}(x)$ in terms of the difference formulas, in which case the $a^{l}_i$ basis function will form a hierarchical basis as\n",
    "\n",
    "\\begin{align}\n",
    " I^{(L)}f^{(1)} = \\sum_{l=1}^L \\Delta^{(l)}f^{(1)} = \\sum_{l=1}^L\\sum_{i=1}^{m_l}w^{(l)}_i a^{(l)}_i\n",
    " \\label{eq:diff1}\n",
    "\\end{align}\n",
    "\n",
    "Hence, to obtain a level $L$ interpolant, we can just create a telescopic sum of the difference formulas, which is the first equality above. The second equality is obtained by simply plugging in the formula for $\\Delta^{(l)}f^{(1)}$, and it shows that the $a^{(l)}_i$ form a hierarchical basis due to summation over $l$, which increases the number collocation point $m_l$ at every new level. This is also sketched in the Figure below, which assumes linear basis functions for simplicity.\n",
    "\n",
    "![](images/fig3.png)\n",
    "*Top left is a standard linear (finite-element) basis, with below it a corresponding linear interpolant. Top right displays a linear hierarchical basis. Below it we show a series of 3 hierarchical interpolants ($L=1,2$ and $3$) and the hierarchical surplus coefficients $w^{(l)}_i$ used in their construction. Figure recreated from [3]*\n",
    "\n",
    "**Why should we care?**\n",
    "\n",
    "The formula above is the same as $I^{(l)}f^{(1)}$ in the beginning, as both are 1D interpolation formulas, only written differently, so why should we complicate things with a hierarchical notation? \n",
    "\n",
    "One advantage of adopting the hierarchical notation is that it naturally allows for **refinement**, i.e. adding more points to an existing sampling plan, by adding another level. If we select a nested quadrature rule, adding another level means we only have to evaluate the (expensive) code at a relatively small number of *new* points, the other points are quaranteed to be present in one or more of the previous levels, see the CC example at the beginning of this section.\n",
    "\n",
    "In the case more than one uncertain input, sampling plans are create using **tensor products of 1D collocation points**. Here, **a hierarchical construction leads to a sparse sampling plan**, with much less code evaluations compared to \"standard\" sampling plans.\n",
    "\n",
    "![](images/drawing.png)"
   ]
  },
  {
   "cell_type": "markdown",
   "id": "6270ea2d",
   "metadata": {},
   "source": [
    "## Sparse grid UQ on an HIV model\n",
    "\n",
    "Here we will look at a HIV model [1], taken from the [Active Subspace data set repository](https://github.com/paulcon/as-data-sets). It models the T-cell count during different stages of the disease, and has 27 input parameters spread out over 7 coupled ODEs.\n",
    "\n",
    "### HIV model\n",
    "\n",
    "From [here](https://github.com/paulcon/as-data-sets/blob/master/HIV/HIV.ipynb) we find the following description of the model, see also [4]. The 7 coupled ordinary differential equations are given by:\n",
    "\n",
    "$$\n",
    "\\begin{align}\n",
    "\\frac{dT}{dt} &= s_1 + \\frac{p_1}{C_1+V}TV - \\delta_1T - (K_1V + K_2M_I)T,\\\\\n",
    "\\frac{dT_I}{dt} &= \\psi(K_1V + K_2M_I)T + \\alpha_1T_L-\\delta_2T_I-K_3T_ICTL,\\\\\n",
    "\\frac{dT_L}{dt} &= (1-\\psi)(K_1V+K_2M_I)T-\\alpha_1T_L-\\delta_3T_L,\\\\\n",
    "\\frac{dM}{dt} &= s_2+K_4MV-K_5MV-\\delta_4M,\\\\\n",
    "\\frac{dM_I}{dt} &= K_5MV-\\delta_5M_I-K_6M_ICTL,\\\\\n",
    "\\frac{dCTL}{dt} &= s_3 + (K_7T_I+K_8M_I)CTL-\\delta_6CTL,\\\\\n",
    "\\frac{dV}{dt} &= K_9T_I+K_{10}M_I-K_{11}TV-(K_{12}+K_{13})MV-\\delta_7V,\n",
    "\\end{align}\n",
    "$$\n",
    "\n",
    "where $T(t)$ is the CD4$^+$ T-cell population, $T_I$ is the actively infected T-cell population, $T_L$ represents latently-infected T-cells, $M$ is macrophages, $M_I$ is infected macrophages, $CTL$ is cytotoxic lymphocytes, and $V$ is virions. The model's 27 parameters are summarized in the table below.\n",
    "\n",
    "Parameter|Nominal Value|Distribution (U(min, max))\n",
    ":-------:|:-----------:|:-------------:\n",
    "$s_1$|  10 |  U(9.75, 10.25)\n",
    "$s_2$|   .15 |  U(.14625, .15375)\n",
    "$s_3$|   5  | U(4.875, 5.125)\n",
    "$p_1$|   .2 |  U(.195, .205)\n",
    "$C_1$|   55.6  | U(54.21, 56.99)\n",
    "$K_1$|   3.87e-3 |  U(3.77325e-3, 3.96675e-3)\n",
    "$K_2$|   1e-6  | U(.975e-6, 1.025e-6)\n",
    "$K_3$|   4.5e-4 |  U(4.3875e-4, 4.6125e-4)\n",
    "$K_4$|   7.45e-4 |  U(7.26375e-4, 7.63625e-4)\n",
    "$K_5$|   5.22e-4 |  U(5.0895e-4, 5.3505e-4)\n",
    "$K_6$|   3e-6  | U(2.925e-6, 3.075e-6)\n",
    "$K_7$|   3.3e-4  | U(3.2175e-4, 3.3825e-4)\n",
    "$K_8$|   6e-9  | U(5.85e-9, 6.15e-9)\n",
    "$K_9$|   .537 |  U(.523575, .550425)\n",
    "$K_{10}$|   .285 |  U(.277875, .292125)\n",
    "$K_{11}$|   7.79e-6 |  U(7.59525e-6, 7.98475e-6)\n",
    "$K_{12}$|   1e-6  | U(.975e-6, 1.025e-6)\n",
    "$K_{13}$|   4e-5   |U(3.9e-5, 4.1e-5)\n",
    "$\\delta_1$|   .01 |  U(.00975, .01025)\n",
    "$\\delta_2$|   .28  | U(.273, .287)\n",
    "$\\delta_3$|   .05  | U(.04875, .05125)\n",
    "$\\delta_4$|   .005  | U(.004875, .005125)\n",
    "$\\delta_5$|   .005 |  U(.004875, .005125)\n",
    "$\\delta_6$|   .015 |  U(.014625, .015375)\n",
    "$\\delta_7$|   2.39 |  U(2.33025, 2.44975)\n",
    "$\\alpha_1$|   3e-4 |  U(2.925e-4, 3.075e-4)\n",
    "$\\psi$|   .97 |  U(.94575, .99425)\n",
    "\n",
    "The limits on the uniform distributions are 2.5% above and below the nominal values. \n"
   ]
  },
  {
   "cell_type": "code",
   "execution_count": 2,
   "id": "d10fca6d",
   "metadata": {},
   "outputs": [],
   "source": [
    "import os\n",
    "import numpy as np\n",
    "import easyvvuq as uq\n",
    "import chaospy as cp\n",
    "import matplotlib.pyplot as plt\n",
    "import seaborn as sns\n",
    "from easyvvuq.actions import CreateRunDirectory, Encode, Decode, ExecuteLocal, Actions"
   ]
  },
  {
   "cell_type": "markdown",
   "id": "fbdcc8d6",
   "metadata": {},
   "source": [
    "### Setting up an EasyVVUQ campaign\n",
    "\n",
    "We first set up the `params` dictionary, in which we specify the name, type and default value of each input:"
   ]
  },
  {
   "cell_type": "code",
   "execution_count": 3,
   "id": "afb54dda",
   "metadata": {},
   "outputs": [
    {
     "data": {
      "text/plain": [
       "{'s_1': {'type': 'float', 'default': 10.0},\n",
       " 's_2': {'type': 'float', 'default': 0.15},\n",
       " 's_3': {'type': 'float', 'default': 5.0},\n",
       " 'p_1': {'type': 'float', 'default': 0.2},\n",
       " 'C_1': {'type': 'float', 'default': 55.6},\n",
       " 'K_1': {'type': 'float', 'default': 0.00387},\n",
       " 'K_2': {'type': 'float', 'default': 1e-06},\n",
       " 'K_3': {'type': 'float', 'default': 0.00045},\n",
       " 'K_4': {'type': 'float', 'default': 0.000745},\n",
       " 'K_5': {'type': 'float', 'default': 0.000522},\n",
       " 'K_6': {'type': 'float', 'default': 3e-06},\n",
       " 'K_7': {'type': 'float', 'default': 0.00033},\n",
       " 'K_8': {'type': 'float', 'default': 6e-09},\n",
       " 'K_9': {'type': 'float', 'default': 0.537},\n",
       " 'K_10': {'type': 'float', 'default': 0.285},\n",
       " 'K_11': {'type': 'float', 'default': 7.79e-06},\n",
       " 'K_12': {'type': 'float', 'default': 1e-06},\n",
       " 'K_13': {'type': 'float', 'default': 4e-05},\n",
       " 'delta_1': {'type': 'float', 'default': 0.01},\n",
       " 'delta_2': {'type': 'float', 'default': 0.28},\n",
       " 'delta_3': {'type': 'float', 'default': 0.05},\n",
       " 'delta_4': {'type': 'float', 'default': 0.005},\n",
       " 'delta_5': {'type': 'float', 'default': 0.005},\n",
       " 'delta_6': {'type': 'float', 'default': 0.015},\n",
       " 'delta_7': {'type': 'float', 'default': 2.39},\n",
       " 'alpha_1': {'type': 'float', 'default': 0.0003},\n",
       " 'psi': {'type': 'float', 'default': 0.97}}"
      ]
     },
     "execution_count": 3,
     "metadata": {},
     "output_type": "execute_result"
    }
   ],
   "source": [
    "# default values\n",
    "nominal = np.array([10, .15, 5, .2, 55.6, 3.87e-3, 1e-6, 4.5e-4, 7.45e-4, 5.22e-4, 3e-6,\\\n",
    "    3.3e-4, 6e-9, .537, .285, 7.79e-6, 1e-6, 4e-5, .01, .28, .05, .005, .005, .015, 2.39,\\\n",
    "    3e-4, .97])\n",
    "\n",
    "# parameter names\n",
    "param_names = ['s_1', 's_2', 's_3', 'p_1', 'C_1', 'K_1', 'K_2', 'K_3', 'K_4', 'K_5', 'K_6',\n",
    "               'K_7', 'K_8', 'K_9', 'K_10', 'K_11', 'K_12', 'K_13', 'delta_1', 'delta_2', 'delta_3',\n",
    "               'delta_4', 'delta_5', 'delta_6', 'delta_7', 'alpha_1', 'psi']\n",
    "# params dict\n",
    "params = {}\n",
    "for idx, name in enumerate(param_names):\n",
    "    params[name] = {'type': 'float', 'default': nominal[idx]}\n",
    "\n",
    "params"
   ]
  },
  {
   "cell_type": "markdown",
   "id": "c5a77274",
   "metadata": {},
   "source": [
    "Next we'll set up the **encoder**, which will create the input files for the HIV model using an input template. In this case the input file is just a comma-separated file of values. To create an EasyVVUQ input template each value is replaced by `$param_name`:\n",
    "\n",
    "`$s_1,$s_2,$s_3,$p_1,$C_1,$K_1,$K_2,$K_3,$K_4,$K_5,$K_6,$K_7,$K_8,$K_9,$K_10,$K_11,$K_12,$K_13,$delta_1,$delta_2,$delta_3,$delta_4,$delta_5,$delta_6,$delta_7,$alpha_1,$psi`\n",
    "\n",
    "The encoder will swap out the `$param_name` flags for values drawn from the specified input distribution."
   ]
  },
  {
   "cell_type": "code",
   "execution_count": 4,
   "id": "f234a572",
   "metadata": {},
   "outputs": [],
   "source": [
    "# input file encoder\n",
    "encoder = uq.encoders.GenericEncoder(template_fname='HIV.template', delimiter='$', target_filename='input.csv')"
   ]
  },
  {
   "cell_type": "markdown",
   "id": "2cd7bb05",
   "metadata": {},
   "source": [
    "The HIV model writes a CSV file containing the predicted T-cell count. The **decoder** will read this file and store its contents within the EasyVVUQ database. "
   ]
  },
  {
   "cell_type": "code",
   "execution_count": 5,
   "id": "72de9ade",
   "metadata": {},
   "outputs": [],
   "source": [
    "# Quantity of Interest, also the column name of the output CSV file\n",
    "QOI = 'T_cell_count'\n",
    "# CSV output file decoder\n",
    "decoder = uq.decoders.SimpleCSV(target_filename='output.csv', output_columns=[QOI])"
   ]
  },
  {
   "cell_type": "markdown",
   "id": "e3accd88",
   "metadata": {},
   "source": [
    "We'll run the HIV ensemble locally. However, in many cases of practical interest the model will be too expensive for local execution. In this case the VECMA tools [QCG-PilotJob](https://github.com/vecma-project/QCG-PilotJob) or [FabSim3](https://github.com/djgroen/FabSim3) can be used in combination with EasyVVUQ to submit the ensemble to HPC resources."
   ]
  },
  {
   "cell_type": "code",
   "execution_count": 6,
   "id": "19e27086",
   "metadata": {},
   "outputs": [],
   "source": [
    "# local execution of HIV_model.py\n",
    "execute = ExecuteLocal('{}/HIV_model.py'.format(os.getcwd()))"
   ]
  },
  {
   "cell_type": "markdown",
   "id": "c2285b4f",
   "metadata": {},
   "source": [
    "Now we are combine all actions we want to execute into an `Actions` object."
   ]
  },
  {
   "cell_type": "code",
   "execution_count": 7,
   "id": "8f8936be",
   "metadata": {},
   "outputs": [],
   "source": [
    "# location where the run directories are stored\n",
    "WORK_DIR = '/tmp'\n",
    "# actions to be undertaken: make rundirs, encode input files, execute local model ensemble, decode output files\n",
    "actions = Actions(CreateRunDirectory(root=WORK_DIR, flatten=True), Encode(encoder), execute, \n",
    "                  Decode(decoder))"
   ]
  },
  {
   "cell_type": "markdown",
   "id": "6164afba",
   "metadata": {},
   "source": [
    "The central object in the UQ analysis is a so-called Campaign. This is created as:"
   ]
  },
  {
   "cell_type": "code",
   "execution_count": 8,
   "id": "4281f285",
   "metadata": {},
   "outputs": [],
   "source": [
    "campaign = uq.Campaign(name='HIV_SC', params=params, actions=actions)"
   ]
  },
  {
   "cell_type": "markdown",
   "id": "72051f67",
   "metadata": {},
   "source": [
    "### Input specification\n",
    "\n",
    "Next we specify a probability density function for each input parameter in the `vary` dict. Each input in the vary dict will be considered as random, and therefore part of the UQ campaign. We could select only a subset of the parameters defined in the `params` dict above. The remaining inputs will then be fixed to their default values ( also defined in the `params` dict). Here we'll just include 2 inputs to visualize the full sampling plan, and specify a uniform input distribution with bounds at $\\pm 2.5 \\%$ from their default value:"
   ]
  },
  {
   "cell_type": "code",
   "execution_count": 9,
   "id": "493a26ef",
   "metadata": {},
   "outputs": [
    {
     "data": {
      "text/plain": [
       "{'K_4': Uniform(lower=0.000726375, upper=0.000763625),\n",
       " 'delta_7': Uniform(lower=2.33025, upper=2.44975)}"
      ]
     },
     "execution_count": 9,
     "metadata": {},
     "output_type": "execute_result"
    }
   ],
   "source": [
    "vary = {}\n",
    "#Lower and upper parameter limits\n",
    "xl = .975*nominal; xu = 1.025*nominal\n",
    "included_params = ['K_4', 'delta_7']\n",
    "for name in included_params:\n",
    "    # input distributions are specified using Chaospy\n",
    "    idx = param_names.index(name)\n",
    "    vary[name] = cp.Uniform(xl[idx], xu[idx])\n",
    "vary"
   ]
  },
  {
   "cell_type": "markdown",
   "id": "b77cd1e0",
   "metadata": {},
   "source": [
    "### Sampler\n",
    "To generate the sampling plan we select the (sparse) Stochastic Collocation sampler. The `polynomial_order` of the sampler object should be interpreted as the level (defined above) in the case of `sparse=True`. Furthermore;\n",
    "\n",
    "* `quadrature_rule='C'`: select the Clenshaw Curtis (CC) quadrature rule\n",
    "* `growth=True`: selects an exponential growth rule, making CC *nested*. This is *not* possible for every quadrature rule, see [Chaospy documentation](https://chaospy.readthedocs.io/en/master/reference/quadrature/index.html).\n",
    "\n"
   ]
  },
  {
   "cell_type": "code",
   "execution_count": 10,
   "id": "df78640b",
   "metadata": {},
   "outputs": [],
   "source": [
    "sampler = uq.sampling.SCSampler(vary=vary, polynomial_order=1, sparse = True, quadrature_rule='C', \n",
    "                                growth=True, dimension_adaptive=False)\n",
    "campaign.set_sampler(sampler)"
   ]
  },
  {
   "cell_type": "markdown",
   "id": "e7b61704",
   "metadata": {},
   "source": [
    "Setting `polynomial_order=1` will create a level 1 sparse grid, with just a single point:"
   ]
  },
  {
   "cell_type": "code",
   "execution_count": 11,
   "id": "cd374652",
   "metadata": {},
   "outputs": [],
   "source": [
    "def plot_sampling_plan():\n",
    "    \"\"\"\n",
    "    Plot the sampling plan of the (first) two input dimensions\n",
    "    \"\"\"\n",
    "    fig = plt.figure()\n",
    "    ax = fig.add_subplot(111, xlabel='x_1', ylabel='x_2')\n",
    "    # the xi_d array contains the N x d sampling points, with N being the number of points and d the number of inputs\n",
    "    ax.plot(sampler.xi_d[:,0], sampler.xi_d[:, 1], 'ro')\n",
    "    # print the number of points to screen\n",
    "    print(\"Number of sampling points = %d\" % sampler.n_samples)"
   ]
  },
  {
   "cell_type": "code",
   "execution_count": 12,
   "id": "f735f1af",
   "metadata": {},
   "outputs": [
    {
     "name": "stdout",
     "output_type": "stream",
     "text": [
      "Number of sampling points = 1\n"
     ]
    },
    {
     "data": {
      "image/png": "[encoded data removed]",
      "text/plain": [
       "<Figure size 432x288 with 1 Axes>"
      ]
     },
     "metadata": {
      "needs_background": "light"
     },
     "output_type": "display_data"
    }
   ],
   "source": [
    "plot_sampling_plan()"
   ]
  },
  {
   "cell_type": "markdown",
   "id": "35aa6aa7",
   "metadata": {},
   "source": [
    "We can refine the grid to the next level via `next_level_sparse_grid`, only evaluating the code at the *new* sampling points. We do this a number of times, plotting the 2D sampling plan each time. "
   ]
  },
  {
   "cell_type": "code",
   "execution_count": 13,
   "id": "15adf3d4",
   "metadata": {},
   "outputs": [
    {
     "name": "stdout",
     "output_type": "stream",
     "text": [
      "Number of sampling points = 5\n"
     ]
    },
    {
     "name": "stderr",
     "output_type": "stream",
     "text": [
      "100%|████████████████████████████████████████████████████████████████████████████████████████████████████████████████████████████████████████████████████████████████████████| 5/5 [00:00<00:00,  5.36it/s]\n"
     ]
    },
    {
     "name": "stdout",
     "output_type": "stream",
     "text": [
      "Number of sampling points = 13\n"
     ]
    },
    {
     "name": "stderr",
     "output_type": "stream",
     "text": [
      "100%|████████████████████████████████████████████████████████████████████████████████████████████████████████████████████████████████████████████████████████████████████████| 8/8 [00:01<00:00,  6.34it/s]\n"
     ]
    },
    {
     "name": "stdout",
     "output_type": "stream",
     "text": [
      "Number of sampling points = 29\n"
     ]
    },
    {
     "name": "stderr",
     "output_type": "stream",
     "text": [
      "100%|██████████████████████████████████████████████████████████████████████████████████████████████████████████████████████████████████████████████████████████████████████| 16/16 [00:02<00:00,  7.28it/s]\n"
     ]
    },
    {
     "name": "stdout",
     "output_type": "stream",
     "text": [
      "Number of sampling points = 65\n"
     ]
    },
    {
     "name": "stderr",
     "output_type": "stream",
     "text": [
      "100%|██████████████████████████████████████████████████████████████████████████████████████████████████████████████████████████████████████████████████████████████████████| 36/36 [00:04<00:00,  8.78it/s]\n"
     ]
    },
    {
     "name": "stdout",
     "output_type": "stream",
     "text": [
      "Number of sampling points = 145\n"
     ]
    },
    {
     "name": "stderr",
     "output_type": "stream",
     "text": [
      "100%|██████████████████████████████████████████████████████████████████████████████████████████████████████████████████████████████████████████████████████████████████████| 80/80 [00:09<00:00,  8.18it/s]\n"
     ]
    },
    {
     "name": "stdout",
     "output_type": "stream",
     "text": [
      "Number of sampling points = 321\n"
     ]
    },
    {
     "name": "stderr",
     "output_type": "stream",
     "text": [
      "100%|████████████████████████████████████████████████████████████████████████████████████████████████████████████████████████████████████████████████████████████████████| 176/176 [00:21<00:00,  8.01it/s]\n"
     ]
    },
    {
     "data": {
      "text/plain": [
       "<Figure size 432x288 with 0 Axes>"
      ]
     },
     "metadata": {},
     "output_type": "display_data"
    },
    {
     "data": {
      "image/png": "[encoded data removed]",
      "text/plain": [
       "<Figure size 432x288 with 1 Axes>"
      ]
     },
     "metadata": {
      "needs_background": "light"
     },
     "output_type": "display_data"
    },
    {
     "data": {
      "image/png": "[encoded data removed]",
      "text/plain": [
       "<Figure size 432x288 with 1 Axes>"
      ]
     },
     "metadata": {
      "needs_background": "light"
     },
     "output_type": "display_data"
    },
    {
     "data": {
      "image/png": "[encoded data removed]",
      "text/plain": [
       "<Figure size 432x288 with 1 Axes>"
      ]
     },
     "metadata": {
      "needs_background": "light"
     },
     "output_type": "display_data"
    },
    {
     "data": {
      "image/png": "[encoded data removed]",
      "text/plain": [
       "<Figure size 432x288 with 1 Axes>"
      ]
     },
     "metadata": {
      "needs_background": "light"
     },
     "output_type": "display_data"
    },
    {
     "data": {
      "image/png": "[encoded data removed]",
      "text/plain": [
       "<Figure size 432x288 with 1 Axes>"
      ]
     },
     "metadata": {
      "needs_background": "light"
     },
     "output_type": "display_data"
    },
    {
     "data": {
      "image/png": "[encoded data removed]",
      "text/plain": [
       "<Figure size 432x288 with 1 Axes>"
      ]
     },
     "metadata": {
      "needs_background": "light"
     },
     "output_type": "display_data"
    }
   ],
   "source": [
    "n_adaptations = 6\n",
    "fig_means = plt.figure()\n",
    "for i in range(n_adaptations):\n",
    "    sampler.next_level_sparse_grid()\n",
    "    plot_sampling_plan()\n",
    "    # this command executes the actions\n",
    "    campaign.execute().collate(progress_bar=True)"
   ]
  },
  {
   "cell_type": "markdown",
   "id": "8955de67",
   "metadata": {},
   "source": [
    "## Dimension-adaptive sparse grids\n",
    "\n",
    "The sparse grids shown above are **isotropic**, in the sense that both inputs are treated the same. While isotropic sparse grids contains less points compared to the standard SC method, they will not scale very well when we have 27 inputs. \n",
    "\n",
    "In this case we can opt to apply the dimension-adaptive version of the SC sampler, in order to create an **anisotropic** sparse grid. This process is iterative in nature, usually staring from a single point. Unlike the isotropic case, only a certain (combination of) parameters will get refined. \n",
    "\n",
    "At each iteration, the code is evaluated at certain (so-called *admissible*) refinements, the `x` symbols in the cartoon below. Refinement means adding another tensor product where the quadrature order of one or more inputs is increased by one. Only one of the admissible refinements will get accepted, creating an anisotropic sampling plan.\n",
    "\n",
    "![](images/adapt.png)\n",
    "\n",
    "To determine which of the admissible refinement gets accepted, an error measure is computed for every refinement. The one with the highest error is accepted. Here we will use *hierarchical surplus*, defined above. For more information see [2,3]."
   ]
  },
  {
   "cell_type": "markdown",
   "id": "18e27825",
   "metadata": {},
   "source": [
    "We will create a new campaign, the `params` dict and the `actions` do no need to redefined."
   ]
  },
  {
   "cell_type": "code",
   "execution_count": 14,
   "id": "ea43f6f4",
   "metadata": {},
   "outputs": [],
   "source": [
    "campaign = uq.Campaign(name='HIV_SC_adaptive', params=params, actions=actions)"
   ]
  },
  {
   "cell_type": "markdown",
   "id": "d2f0db61",
   "metadata": {},
   "source": [
    "We do redefine `vary`, as we will include all 27 inputs in the uncertainty analysis this time."
   ]
  },
  {
   "cell_type": "code",
   "execution_count": 15,
   "id": "deb0a29e",
   "metadata": {},
   "outputs": [],
   "source": [
    "vary = {}\n",
    "#Lower and upper parameter limits\n",
    "xl = .975*nominal; xu = 1.025*nominal\n",
    "for i in range(27):\n",
    "    vary[param_names[i]] = cp.Uniform(xl[i], xu[i])"
   ]
  },
  {
   "cell_type": "markdown",
   "id": "b6fdb440",
   "metadata": {},
   "source": [
    "Some changes must be made in the sampler as well, as now we set `dimension_adaptive = True`."
   ]
  },
  {
   "cell_type": "code",
   "execution_count": 16,
   "id": "d50b559b",
   "metadata": {},
   "outputs": [],
   "source": [
    "sampler = uq.sampling.SCSampler(vary=vary, polynomial_order=1, quadrature_rule='C', sparse=True,\n",
    "                                growth=True, dimension_adaptive=True)\n",
    "campaign.set_sampler(sampler)"
   ]
  },
  {
   "cell_type": "markdown",
   "id": "c53c3b93",
   "metadata": {},
   "source": [
    "Run the first ensemble, which consists of just a single sample:"
   ]
  },
  {
   "cell_type": "code",
   "execution_count": 17,
   "id": "a395d8e1",
   "metadata": {},
   "outputs": [
    {
     "name": "stderr",
     "output_type": "stream",
     "text": [
      "100%|████████████████████████████████████████████████████████████████████████████████████████████████████████████████████████████████████████████████████████████████████████| 1/1 [00:00<00:00,  1.61it/s]\n"
     ]
    }
   ],
   "source": [
    "campaign.execute().collate(progress_bar=True)\n"
   ]
  },
  {
   "cell_type": "markdown",
   "id": "d9ed3727",
   "metadata": {},
   "source": [
    "To analyse the results (and execute the dimension adaptivity), we need an `SCAnalysis` object:"
   ]
  },
  {
   "cell_type": "code",
   "execution_count": 18,
   "id": "ab41ab91",
   "metadata": {},
   "outputs": [
    {
     "name": "stderr",
     "output_type": "stream",
     "text": [
      "/home/wouter/.local/lib/python3.7/site-packages/easyvvuq-1.1.1-py3.7.egg/easyvvuq/analysis/sc_analysis.py:1097: RuntimeWarning: invalid value encountered in true_divide\n",
      "  S_u[u] = D_u[u] / D\n"
     ]
    }
   ],
   "source": [
    "analysis = uq.analysis.SCAnalysis(sampler=sampler, qoi_cols=[QOI])\n",
    "# perform analysis (basically estimates moments, Sobol analysis, and updates internal state of analysis)\n",
    "campaign.apply_analysis(analysis)"
   ]
  },
  {
   "cell_type": "markdown",
   "id": "4b89bab7",
   "metadata": {},
   "source": [
    "Now we'll refine the grid several times in an anisotropic fashion. Here\n",
    "\n",
    "* `look_ahead`: determines the new admissible candidate refinements.\n",
    "* `campaign.get_collation_result()`: get the data frame with all code samples.\n",
    "* `adapt_dimension`: compute the hierarchical surplus at all candidate refinements, and accept the one with the highest surplus."
   ]
  },
  {
   "cell_type": "code",
   "execution_count": 19,
   "id": "a5ad8e3d",
   "metadata": {},
   "outputs": [
    {
     "name": "stderr",
     "output_type": "stream",
     "text": [
      "100%|██████████████████████████████████████████████████████████████████████████████████████████████████████████████████████████████████████████████████████████████████████| 54/54 [00:06<00:00,  8.72it/s]\n",
      "100%|████████████████████████████████████████████████████████████████████████████████████████████████████████████████████████████████████████████████████████████████████████| 2/2 [00:00<00:00,  3.23it/s]\n",
      "100%|████████████████████████████████████████████████████████████████████████████████████████████████████████████████████████████████████████████████████████████████████████| 6/6 [00:01<00:00,  5.78it/s]\n",
      "100%|██████████████████████████████████████████████████████████████████████████████████████████████████████████████████████████████████████████████████████████████████████| 10/10 [00:01<00:00,  6.65it/s]\n",
      "0it [00:00, ?it/s]\n",
      "0it [00:00, ?it/s]\n",
      "100%|████████████████████████████████████████████████████████████████████████████████████████████████████████████████████████████████████████████████████████████████████████| 8/8 [00:01<00:00,  6.42it/s]\n",
      "0it [00:00, ?it/s]\n",
      "100%|██████████████████████████████████████████████████████████████████████████████████████████████████████████████████████████████████████████████████████████████████████| 14/14 [00:02<00:00,  6.87it/s]\n",
      "100%|██████████████████████████████████████████████████████████████████████████████████████████████████████████████████████████████████████████████████████████████████████| 18/18 [00:02<00:00,  7.82it/s]\n",
      "0it [00:00, ?it/s]\n",
      "100%|████████████████████████████████████████████████████████████████████████████████████████████████████████████████████████████████████████████████████████████████████████| 8/8 [00:01<00:00,  6.20it/s]\n",
      "0it [00:00, ?it/s]\n",
      "0it [00:00, ?it/s]\n",
      "100%|████████████████████████████████████████████████████████████████████████████████████████████████████████████████████████████████████████████████████████████████████████| 8/8 [00:01<00:00,  6.27it/s]\n"
     ]
    }
   ],
   "source": [
    "number_of_adaptations = 15\n",
    "for i in range(number_of_adaptations):\n",
    "    # compute candidate refinements\n",
    "    sampler.look_ahead(analysis.l_norm)\n",
    "    # run ensemble (at new locations only)\n",
    "    campaign.execute().collate(progress_bar=True)\n",
    "    # get data frame\n",
    "    data_frame = campaign.get_collation_result()\n",
    "    # adapt the sampling plan\n",
    "    analysis.adapt_dimension(QOI, data_frame)\n",
    "    # we must apply the analysis to update its internal state\n",
    "    campaign.apply_analysis(analysis)"
   ]
  },
  {
   "cell_type": "markdown",
   "id": "0edcca32",
   "metadata": {},
   "source": [
    "This command retrieves the result after all refinements:"
   ]
  },
  {
   "cell_type": "code",
   "execution_count": 20,
   "id": "92b99d58",
   "metadata": {},
   "outputs": [],
   "source": [
    "results = campaign.get_last_analysis()"
   ]
  },
  {
   "cell_type": "markdown",
   "id": "a9714555",
   "metadata": {},
   "source": [
    "The `adaptation_table` shows a plot of that visualizes which inputs got refined. Again, each refinement is another tensor product of 1D quadrature points, where the quadrature order of at least 1 input is increased. Note that the algorithm will focus on a subset of inputs."
   ]
  },
  {
   "cell_type": "code",
   "execution_count": 21,
   "id": "42802291",
   "metadata": {},
   "outputs": [
    {
     "data": {
      "image/png": "[encoded data removed]",
      "text/plain": [
       "<Figure size 864x432 with 2 Axes>"
      ]
     },
     "metadata": {
      "needs_background": "light"
     },
     "output_type": "display_data"
    }
   ],
   "source": [
    "analysis.adaptation_table()"
   ]
  },
  {
   "cell_type": "markdown",
   "id": "a95acd12",
   "metadata": {},
   "source": [
    "Here we will compute confidence intervals:"
   ]
  },
  {
   "cell_type": "code",
   "execution_count": 22,
   "id": "170c0b0b",
   "metadata": {},
   "outputs": [],
   "source": [
    "def get_confidence_intervals(samples, conf=0.9):\n",
    "    \"\"\"\n",
    "    Compute the confidence intervals given an array of samples\n",
    "\n",
    "    Parameters\n",
    "    ----------\n",
    "    samples : array\n",
    "        Samples on which to compute the intervals.\n",
    "    conf : float, optional, must be in [0, 1].\n",
    "        The confidence interval percentage. The default is 0.9.\n",
    "\n",
    "    Returns\n",
    "    -------\n",
    "    lower : array\n",
    "        The lower confidence bound..\n",
    "    upper : array\n",
    "        The upper confidence bound.\n",
    "\n",
    "    \"\"\"\n",
    "\n",
    "    # ake sure conf is in [0, 1]\n",
    "    if conf < 0.0 or conf > 1.0:\n",
    "        print('conf must be specified within [0, 1]')\n",
    "        return\n",
    "\n",
    "    # lower bound = alpha, upper bound = 1 - alpha\n",
    "    alpha = 0.5 * (1.0 - conf)\n",
    "\n",
    "    # arrays for lower and upper bound of the interval\n",
    "    n_samples = samples.shape[0]\n",
    "    N_qoi = samples.shape[1]\n",
    "    lower = np.zeros(N_qoi)\n",
    "    upper = np.zeros(N_qoi)\n",
    "\n",
    "    # the probabilities of the ecdf\n",
    "    prob = np.linspace(0, 1, n_samples)\n",
    "    # the closest locations in prob that correspond to the interval bounds\n",
    "    idx0 = np.where(prob <= alpha)[0][-1]\n",
    "    idx1 = np.where(prob <= 1.0 - alpha)[0][-1]\n",
    "\n",
    "    # for every location of qoi compute the ecdf-based confidence interval\n",
    "    for i in range(N_qoi):\n",
    "        # the sorted surrogate samples at the current location\n",
    "        samples_sorted = np.sort(samples[:, i])\n",
    "        # the corresponding confidence interval\n",
    "        lower[i] = samples_sorted[idx0]\n",
    "        upper[i] = samples_sorted[idx1]\n",
    "\n",
    "    return lower, upper"
   ]
  },
  {
   "cell_type": "code",
   "execution_count": 23,
   "id": "089dc965",
   "metadata": {},
   "outputs": [
    {
     "data": {
      "image/png": "[encoded data removed]",
      "text/plain": [
       "<Figure size 720x360 with 2 Axes>"
      ]
     },
     "metadata": {
      "needs_background": "light"
     },
     "output_type": "display_data"
    }
   ],
   "source": [
    "from matplotlib import gridspec\n",
    "\n",
    "x = range(analysis.N_qoi)\n",
    "\n",
    "code_samples = analysis.get_sample_array(QOI)\n",
    "n_samples = code_samples.shape[0]\n",
    "\n",
    "#confidence bounds\n",
    "lower1, upper1 = get_confidence_intervals(code_samples, conf=0.63)\n",
    "lower2, upper2 = get_confidence_intervals(code_samples, conf=0.95)\n",
    "\n",
    "fig = plt.figure(figsize=(10,5))\n",
    "spec = gridspec.GridSpec(ncols=2, nrows=1,\n",
    "                          width_ratios=[3, 1])\n",
    "\n",
    "ax1 = fig.add_subplot(spec[0])\n",
    "ax2 = fig.add_subplot(spec[1], sharey=ax1)\n",
    "ax2.get_xaxis().set_ticks([])\n",
    "fig.subplots_adjust(wspace=0)\n",
    "plt.setp(ax2.get_yticklabels(), visible=False)\n",
    "\n",
    "ax1.fill_between(x, lower2, upper2, color='#aa99cc', label='95% CI', alpha=0.5)\n",
    "ax1.fill_between(x, lower1, upper1, color='#aa99cc', label='68% CI')\n",
    "\n",
    "mean = results.describe(QOI, 'mean')\n",
    "ax1.plot(x, mean, label='Mean')\n",
    "\n",
    "ax1.legend(loc=0, frameon=False)\n",
    "\n",
    "ax1.set_xlabel('Days')\n",
    "ax1.set_ylabel('T cell count')\n",
    "ax2.axis('off')\n",
    "sns.despine(top=True)\n",
    "ax2.hist(code_samples[:, -1], orientation='horizontal', color='#aa99cc')\n",
    "\n",
    "plt.tight_layout()"
   ]
  },
  {
   "cell_type": "markdown",
   "id": "1d9b9e61",
   "metadata": {},
   "source": [
    "Finally, we will create a plot with all first-order Sobol indices `S_i`, which shows the fraction of the output variance (vs time here), that each input variable is responsible for *by itself*. To also estimate higher-order effects (the fraction of variance obtained by simultaneously varying 2 or more inputs together), we sum all first-order indices. Where this sum is close to one, there is (almost) no higher-order effect."
   ]
  },
  {
   "cell_type": "code",
   "execution_count": 24,
   "id": "858f83c0",
   "metadata": {},
   "outputs": [
    {
     "data": {
      "image/png": "[encoded data removed]",
      "text/plain": [
       "<Figure size 720x360 with 2 Axes>"
      ]
     },
     "metadata": {
      "needs_background": "light"
     },
     "output_type": "display_data"
    }
   ],
   "source": [
    "from itertools import cycle\n",
    "\n",
    "# color = cycle(['b', 'r', 'g', 'm', 'c', 'k'])\n",
    "marker = cycle(['o', 'v', '^', '<', '>', 's', '*', 'p', 'd', 'P', 'X', \n",
    "                '1', '2', '3', '4', 'x', 'D', '|', '_'])\n",
    "skip = 100\n",
    "x = range(0, analysis.N_qoi, skip)\n",
    "\n",
    "fig = plt.figure(figsize=[10, 5])\n",
    "ax = fig.add_subplot(121, title=r'First-order Sobol indices',\n",
    "                      xlabel=\"days\", ylim=[0,1])\n",
    "ax.set_ylabel(r'$S_i$', fontsize=14)\n",
    "sobols_first = results.sobols_first(QOI)\n",
    "\n",
    "first_order_contribution = 0\n",
    "\n",
    "for param in sobols_first.keys():\n",
    "    ax.plot(x, sobols_first[param][0:-1:skip], label=param, marker=next(marker))\n",
    "    first_order_contribution += sobols_first[param][0:-1:skip]\n",
    "    \n",
    "ax.plot(x, first_order_contribution, 'b*', label=r'First-order contribution all 27 parameters')\n",
    "\n",
    "# place legend on empty axes on the right\n",
    "handles, labels = ax.get_legend_handles_labels()    # ax1 legend\n",
    "ax2 = fig.add_subplot(122)                          # ax2\n",
    "ax2.axis('off')                                     # make ax2 empty\n",
    "ax2.legend(handles, labels, ncol=2)                 # place ax1 legend on ax1\n",
    "plt.tight_layout()"
   ]
  },
  {
   "cell_type": "markdown",
   "id": "502c5d4c",
   "metadata": {},
   "source": [
    "## References\n",
    "\n",
    "[1] T. Loudon and S. Pankavich. _Mathematical Analysis and Dynamic Active Subspaces for a Long term model of HIV_. arXiv:1604.04588, 2016\n",
    "\n",
    "[2] Edeling, W., Arabnejad, H., Sinclair, R., Suleimenova, D., Gopalakrishnan, K., Bosak, B., ... & Coveney, P. V. (2021). The impact of uncertainty on predictions of the CovidSim epidemiological code. Nature Computational Science, 1(2), 128-135.\n",
    "\n",
    "[3] Ma, X., & Zabaras, N. (2009). An adaptive hierarchical sparse grid collocation algorithm for the solution of stochastic differential equations. Journal of Computational Physics, 228(8), 3084-3113."
   ]
  }
 ],
 "metadata": {
  "kernelspec": {
   "display_name": "Python 3 (ipykernel)",
   "language": "python",
   "name": "python3"
  },
  "language_info": {
   "codemirror_mode": {
    "name": "ipython",
    "version": 3
   },
   "file_extension": ".py",
   "mimetype": "text/x-python",
   "name": "python",
   "nbconvert_exporter": "python",
   "pygments_lexer": "ipython3",
   "version": "3.7.7"
  }
 },
 "nbformat": 4,
 "nbformat_minor": 5
}
